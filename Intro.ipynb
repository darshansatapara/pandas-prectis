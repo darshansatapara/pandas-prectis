{
  "metadata": {
    "kernelspec": {
      "name": "python",
      "display_name": "Python (Pyodide)",
      "language": "python"
    },
    "language_info": {
      "codemirror_mode": {
        "name": "python",
        "version": 3
      },
      "file_extension": ".py",
      "mimetype": "text/x-python",
      "name": "python",
      "nbconvert_exporter": "python",
      "pygments_lexer": "ipython3",
      "version": "3.8"
    }
  },
  "nbformat_minor": 5,
  "nbformat": 4,
  "cells": [
    {
      "id": "ad0c4756-ef03-4409-afa1-dca84780d760",
      "cell_type": "code",
      "source": "import numpy as np\nimport pandas as pd",
      "metadata": {
        "trusted": true
      },
      "outputs": [],
      "execution_count": 8
    },
    {
      "id": "1c0102a7-f789-4f77-930d-3d7c9bdccb1c",
      "cell_type": "code",
      "source": "dic1={\n    \"name\":['harry','shubham','gill','jerry','mohan'],\n    \"marks\":[92,75,50,85,95],\n    \"city\":['rampur','kolkata','bareli','umreli','rajasthan']\n}",
      "metadata": {
        "trusted": true
      },
      "outputs": [],
      "execution_count": 9
    },
    {
      "id": "7eedcb92-355f-49d7-8d37-cd783c21ea5b",
      "cell_type": "code",
      "source": "df=pd.DataFrame(dic1)",
      "metadata": {
        "trusted": true
      },
      "outputs": [],
      "execution_count": 10
    },
    {
      "id": "23fc20c4-b96e-47b2-b755-67f2772f6d17",
      "cell_type": "code",
      "source": "df",
      "metadata": {
        "trusted": true
      },
      "outputs": [
        {
          "execution_count": 11,
          "output_type": "execute_result",
          "data": {
            "text/plain": "      name  marks       city\n0    harry     92     rampur\n1  shubham     75    kolkata\n2     gill     50     bareli\n3    jerry     85     umreli\n4    mohan     95  rajasthan",
            "text/html": "<div>\n<style scoped>\n    .dataframe tbody tr th:only-of-type {\n        vertical-align: middle;\n    }\n\n    .dataframe tbody tr th {\n        vertical-align: top;\n    }\n\n    .dataframe thead th {\n        text-align: right;\n    }\n</style>\n<table border=\"1\" class=\"dataframe\">\n  <thead>\n    <tr style=\"text-align: right;\">\n      <th></th>\n      <th>name</th>\n      <th>marks</th>\n      <th>city</th>\n    </tr>\n  </thead>\n  <tbody>\n    <tr>\n      <th>0</th>\n      <td>harry</td>\n      <td>92</td>\n      <td>rampur</td>\n    </tr>\n    <tr>\n      <th>1</th>\n      <td>shubham</td>\n      <td>75</td>\n      <td>kolkata</td>\n    </tr>\n    <tr>\n      <th>2</th>\n      <td>gill</td>\n      <td>50</td>\n      <td>bareli</td>\n    </tr>\n    <tr>\n      <th>3</th>\n      <td>jerry</td>\n      <td>85</td>\n      <td>umreli</td>\n    </tr>\n    <tr>\n      <th>4</th>\n      <td>mohan</td>\n      <td>95</td>\n      <td>rajasthan</td>\n    </tr>\n  </tbody>\n</table>\n</div>"
          },
          "metadata": {}
        }
      ],
      "execution_count": 11
    },
    {
      "id": "6cf6b08b-e4cb-414c-b3f9-2aa9d3836443",
      "cell_type": "code",
      "source": "df.to_csv('marks.csv')",
      "metadata": {
        "trusted": true
      },
      "outputs": [],
      "execution_count": 12
    },
    {
      "id": "6db163b7-07d4-4d87-a7b6-88b04fef8b2e",
      "cell_type": "code",
      "source": "df.head(2)",
      "metadata": {
        "trusted": true
      },
      "outputs": [
        {
          "execution_count": 14,
          "output_type": "execute_result",
          "data": {
            "text/plain": "      name  marks     city\n0    harry     92   rampur\n1  shubham     75  kolkata",
            "text/html": "<div>\n<style scoped>\n    .dataframe tbody tr th:only-of-type {\n        vertical-align: middle;\n    }\n\n    .dataframe tbody tr th {\n        vertical-align: top;\n    }\n\n    .dataframe thead th {\n        text-align: right;\n    }\n</style>\n<table border=\"1\" class=\"dataframe\">\n  <thead>\n    <tr style=\"text-align: right;\">\n      <th></th>\n      <th>name</th>\n      <th>marks</th>\n      <th>city</th>\n    </tr>\n  </thead>\n  <tbody>\n    <tr>\n      <th>0</th>\n      <td>harry</td>\n      <td>92</td>\n      <td>rampur</td>\n    </tr>\n    <tr>\n      <th>1</th>\n      <td>shubham</td>\n      <td>75</td>\n      <td>kolkata</td>\n    </tr>\n  </tbody>\n</table>\n</div>"
          },
          "metadata": {}
        }
      ],
      "execution_count": 14
    },
    {
      "id": "d1d74e8f-32b0-4d16-a9b7-5cd8fd9afeb9",
      "cell_type": "code",
      "source": "df.tail(2)",
      "metadata": {
        "trusted": true
      },
      "outputs": [
        {
          "execution_count": 12,
          "output_type": "execute_result",
          "data": {
            "text/plain": "    name  marks       city\n3  jerry     85     umreli\n4  mohan     95  rajasthan",
            "text/html": "<div>\n<style scoped>\n    .dataframe tbody tr th:only-of-type {\n        vertical-align: middle;\n    }\n\n    .dataframe tbody tr th {\n        vertical-align: top;\n    }\n\n    .dataframe thead th {\n        text-align: right;\n    }\n</style>\n<table border=\"1\" class=\"dataframe\">\n  <thead>\n    <tr style=\"text-align: right;\">\n      <th></th>\n      <th>name</th>\n      <th>marks</th>\n      <th>city</th>\n    </tr>\n  </thead>\n  <tbody>\n    <tr>\n      <th>3</th>\n      <td>jerry</td>\n      <td>85</td>\n      <td>umreli</td>\n    </tr>\n    <tr>\n      <th>4</th>\n      <td>mohan</td>\n      <td>95</td>\n      <td>rajasthan</td>\n    </tr>\n  </tbody>\n</table>\n</div>"
          },
          "metadata": {}
        }
      ],
      "execution_count": 12
    },
    {
      "id": "0209b7c4-802f-4057-a0d9-2d5708595b93",
      "cell_type": "code",
      "source": "df.describe()",
      "metadata": {
        "trusted": true
      },
      "outputs": [
        {
          "execution_count": 14,
          "output_type": "execute_result",
          "data": {
            "text/plain": "           marks\ncount   5.000000\nmean   79.400000\nstd    18.146625\nmin    50.000000\n25%    75.000000\n50%    85.000000\n75%    92.000000\nmax    95.000000",
            "text/html": "<div>\n<style scoped>\n    .dataframe tbody tr th:only-of-type {\n        vertical-align: middle;\n    }\n\n    .dataframe tbody tr th {\n        vertical-align: top;\n    }\n\n    .dataframe thead th {\n        text-align: right;\n    }\n</style>\n<table border=\"1\" class=\"dataframe\">\n  <thead>\n    <tr style=\"text-align: right;\">\n      <th></th>\n      <th>marks</th>\n    </tr>\n  </thead>\n  <tbody>\n    <tr>\n      <th>count</th>\n      <td>5.000000</td>\n    </tr>\n    <tr>\n      <th>mean</th>\n      <td>79.400000</td>\n    </tr>\n    <tr>\n      <th>std</th>\n      <td>18.146625</td>\n    </tr>\n    <tr>\n      <th>min</th>\n      <td>50.000000</td>\n    </tr>\n    <tr>\n      <th>25%</th>\n      <td>75.000000</td>\n    </tr>\n    <tr>\n      <th>50%</th>\n      <td>85.000000</td>\n    </tr>\n    <tr>\n      <th>75%</th>\n      <td>92.000000</td>\n    </tr>\n    <tr>\n      <th>max</th>\n      <td>95.000000</td>\n    </tr>\n  </tbody>\n</table>\n</div>"
          },
          "metadata": {}
        }
      ],
      "execution_count": 14
    },
    {
      "id": "1510611b-0f09-4f21-8af6-0686b7418371",
      "cell_type": "code",
      "source": "first= pd.read_csv('iris.csv')",
      "metadata": {
        "trusted": true
      },
      "outputs": [],
      "execution_count": 22
    },
    {
      "id": "5b854914-d117-4a5c-946d-518ba95f795e",
      "cell_type": "code",
      "source": "first\n",
      "metadata": {
        "trusted": true
      },
      "outputs": [
        {
          "execution_count": 23,
          "output_type": "execute_result",
          "data": {
            "text/plain": "     sepal_length  sepal_width  petal_length  petal_width    species\n0             5.1          3.5           1.4          0.2         se\n1             4.9          3.0           1.4          0.2     setosa\n2             4.7          3.2           1.3          0.2     setosa\n3             4.6          3.1           1.5          0.2     setosa\n4             5.0          3.6           1.4          0.2     setosa\n..            ...          ...           ...          ...        ...\n145           6.7          3.0           5.2          2.3  virginica\n146           6.3          2.5           5.0          1.9  virginica\n147           6.5          3.0           5.2          2.0  virginica\n148           6.2          3.4           5.4          2.3  virginica\n149           5.9          3.0           5.1          1.8  virginica\n\n[150 rows x 5 columns]",
            "text/html": "<div>\n<style scoped>\n    .dataframe tbody tr th:only-of-type {\n        vertical-align: middle;\n    }\n\n    .dataframe tbody tr th {\n        vertical-align: top;\n    }\n\n    .dataframe thead th {\n        text-align: right;\n    }\n</style>\n<table border=\"1\" class=\"dataframe\">\n  <thead>\n    <tr style=\"text-align: right;\">\n      <th></th>\n      <th>sepal_length</th>\n      <th>sepal_width</th>\n      <th>petal_length</th>\n      <th>petal_width</th>\n      <th>species</th>\n    </tr>\n  </thead>\n  <tbody>\n    <tr>\n      <th>0</th>\n      <td>5.1</td>\n      <td>3.5</td>\n      <td>1.4</td>\n      <td>0.2</td>\n      <td>se</td>\n    </tr>\n    <tr>\n      <th>1</th>\n      <td>4.9</td>\n      <td>3.0</td>\n      <td>1.4</td>\n      <td>0.2</td>\n      <td>setosa</td>\n    </tr>\n    <tr>\n      <th>2</th>\n      <td>4.7</td>\n      <td>3.2</td>\n      <td>1.3</td>\n      <td>0.2</td>\n      <td>setosa</td>\n    </tr>\n    <tr>\n      <th>3</th>\n      <td>4.6</td>\n      <td>3.1</td>\n      <td>1.5</td>\n      <td>0.2</td>\n      <td>setosa</td>\n    </tr>\n    <tr>\n      <th>4</th>\n      <td>5.0</td>\n      <td>3.6</td>\n      <td>1.4</td>\n      <td>0.2</td>\n      <td>setosa</td>\n    </tr>\n    <tr>\n      <th>...</th>\n      <td>...</td>\n      <td>...</td>\n      <td>...</td>\n      <td>...</td>\n      <td>...</td>\n    </tr>\n    <tr>\n      <th>145</th>\n      <td>6.7</td>\n      <td>3.0</td>\n      <td>5.2</td>\n      <td>2.3</td>\n      <td>virginica</td>\n    </tr>\n    <tr>\n      <th>146</th>\n      <td>6.3</td>\n      <td>2.5</td>\n      <td>5.0</td>\n      <td>1.9</td>\n      <td>virginica</td>\n    </tr>\n    <tr>\n      <th>147</th>\n      <td>6.5</td>\n      <td>3.0</td>\n      <td>5.2</td>\n      <td>2.0</td>\n      <td>virginica</td>\n    </tr>\n    <tr>\n      <th>148</th>\n      <td>6.2</td>\n      <td>3.4</td>\n      <td>5.4</td>\n      <td>2.3</td>\n      <td>virginica</td>\n    </tr>\n    <tr>\n      <th>149</th>\n      <td>5.9</td>\n      <td>3.0</td>\n      <td>5.1</td>\n      <td>1.8</td>\n      <td>virginica</td>\n    </tr>\n  </tbody>\n</table>\n<p>150 rows × 5 columns</p>\n</div>"
          },
          "metadata": {}
        }
      ],
      "execution_count": 23
    },
    {
      "id": "7f88af19-040d-48c8-955e-f79f03e6447c",
      "cell_type": "code",
      "source": "first['species']",
      "metadata": {
        "trusted": true
      },
      "outputs": [
        {
          "execution_count": 26,
          "output_type": "execute_result",
          "data": {
            "text/plain": "0             se\n1         setosa\n2         setosa\n3         setosa\n4         setosa\n         ...    \n145    virginica\n146    virginica\n147    virginica\n148    virginica\n149    virginica\nName: species, Length: 150, dtype: object"
          },
          "metadata": {}
        }
      ],
      "execution_count": 26
    },
    {
      "id": "8e4a9a50-565c-4b64-8dc9-58fb4ccc7e94",
      "cell_type": "code",
      "source": "ser=pd.Series(np.random.rand(30))",
      "metadata": {
        "trusted": true
      },
      "outputs": [],
      "execution_count": 27
    },
    {
      "id": "a4c327c5-e53b-44e4-8f23-9dfaaea9b8c0",
      "cell_type": "code",
      "source": "ser\n",
      "metadata": {
        "trusted": true
      },
      "outputs": [
        {
          "execution_count": 28,
          "output_type": "execute_result",
          "data": {
            "text/plain": "0     0.870534\n1     0.963180\n2     0.687495\n3     0.023809\n4     0.852692\n5     0.934429\n6     0.197617\n7     0.362364\n8     0.461778\n9     0.830902\n10    0.731796\n11    0.969721\n12    0.031598\n13    0.796130\n14    0.727512\n15    0.955978\n16    0.091758\n17    0.840083\n18    0.755829\n19    0.966883\n20    0.806445\n21    0.490944\n22    0.978249\n23    0.773665\n24    0.377855\n25    0.012013\n26    0.293945\n27    0.756882\n28    0.185715\n29    0.008468\ndtype: float64"
          },
          "metadata": {}
        }
      ],
      "execution_count": 28
    },
    {
      "id": "343f82b6-dfb5-4b1d-b4e2-05afe9f118cb",
      "cell_type": "code",
      "source": "ser.T",
      "metadata": {
        "trusted": true
      },
      "outputs": [
        {
          "execution_count": 30,
          "output_type": "execute_result",
          "data": {
            "text/plain": "0     0.870534\n1     0.963180\n2     0.687495\n3     0.023809\n4     0.852692\n5     0.934429\n6     0.197617\n7     0.362364\n8     0.461778\n9     0.830902\n10    0.731796\n11    0.969721\n12    0.031598\n13    0.796130\n14    0.727512\n15    0.955978\n16    0.091758\n17    0.840083\n18    0.755829\n19    0.966883\n20    0.806445\n21    0.490944\n22    0.978249\n23    0.773665\n24    0.377855\n25    0.012013\n26    0.293945\n27    0.756882\n28    0.185715\n29    0.008468\ndtype: float64"
          },
          "metadata": {}
        }
      ],
      "execution_count": 30
    },
    {
      "id": "6131c016-6b57-4846-a4b7-4fd14d28c5e1",
      "cell_type": "code",
      "source": "df.T",
      "metadata": {
        "trusted": true
      },
      "outputs": [
        {
          "execution_count": 31,
          "output_type": "execute_result",
          "data": {
            "text/plain": "            0        1       2       3          4\nname    harry  shubham    gill   jerry      mohan\nmarks      92       75      50      85         95\ncity   rampur  kolkata  bareli  umreli  rajasthan",
            "text/html": "<div>\n<style scoped>\n    .dataframe tbody tr th:only-of-type {\n        vertical-align: middle;\n    }\n\n    .dataframe tbody tr th {\n        vertical-align: top;\n    }\n\n    .dataframe thead th {\n        text-align: right;\n    }\n</style>\n<table border=\"1\" class=\"dataframe\">\n  <thead>\n    <tr style=\"text-align: right;\">\n      <th></th>\n      <th>0</th>\n      <th>1</th>\n      <th>2</th>\n      <th>3</th>\n      <th>4</th>\n    </tr>\n  </thead>\n  <tbody>\n    <tr>\n      <th>name</th>\n      <td>harry</td>\n      <td>shubham</td>\n      <td>gill</td>\n      <td>jerry</td>\n      <td>mohan</td>\n    </tr>\n    <tr>\n      <th>marks</th>\n      <td>92</td>\n      <td>75</td>\n      <td>50</td>\n      <td>85</td>\n      <td>95</td>\n    </tr>\n    <tr>\n      <th>city</th>\n      <td>rampur</td>\n      <td>kolkata</td>\n      <td>bareli</td>\n      <td>umreli</td>\n      <td>rajasthan</td>\n    </tr>\n  </tbody>\n</table>\n</div>"
          },
          "metadata": {}
        }
      ],
      "execution_count": 31
    },
    {
      "id": "b24e962e-5784-41f3-af85-1c07dc0c920a",
      "cell_type": "code",
      "source": "df.loc[\"name\",0]=\"mukul\"",
      "metadata": {
        "trusted": true
      },
      "outputs": [],
      "execution_count": 37
    },
    {
      "id": "7ac32a41-6799-4693-b047-b5d3de33d0eb",
      "cell_type": "code",
      "source": "df\n\n",
      "metadata": {
        "trusted": true
      },
      "outputs": [
        {
          "execution_count": 41,
          "output_type": "execute_result",
          "data": {
            "text/plain": "         name  marks       city      0\n0       harry   92.0     rampur    NaN\n1     shubham   75.0    kolkata    NaN\n2        gill   50.0     bareli    NaN\n3       jerry   85.0     umreli    NaN\n4       mohan   95.0  rajasthan    NaN\nname      NaN    NaN        NaN  mukul",
            "text/html": "<div>\n<style scoped>\n    .dataframe tbody tr th:only-of-type {\n        vertical-align: middle;\n    }\n\n    .dataframe tbody tr th {\n        vertical-align: top;\n    }\n\n    .dataframe thead th {\n        text-align: right;\n    }\n</style>\n<table border=\"1\" class=\"dataframe\">\n  <thead>\n    <tr style=\"text-align: right;\">\n      <th></th>\n      <th>name</th>\n      <th>marks</th>\n      <th>city</th>\n      <th>0</th>\n    </tr>\n  </thead>\n  <tbody>\n    <tr>\n      <th>0</th>\n      <td>harry</td>\n      <td>92.0</td>\n      <td>rampur</td>\n      <td>NaN</td>\n    </tr>\n    <tr>\n      <th>1</th>\n      <td>shubham</td>\n      <td>75.0</td>\n      <td>kolkata</td>\n      <td>NaN</td>\n    </tr>\n    <tr>\n      <th>2</th>\n      <td>gill</td>\n      <td>50.0</td>\n      <td>bareli</td>\n      <td>NaN</td>\n    </tr>\n    <tr>\n      <th>3</th>\n      <td>jerry</td>\n      <td>85.0</td>\n      <td>umreli</td>\n      <td>NaN</td>\n    </tr>\n    <tr>\n      <th>4</th>\n      <td>mohan</td>\n      <td>95.0</td>\n      <td>rajasthan</td>\n      <td>NaN</td>\n    </tr>\n    <tr>\n      <th>name</th>\n      <td>NaN</td>\n      <td>NaN</td>\n      <td>NaN</td>\n      <td>mukul</td>\n    </tr>\n  </tbody>\n</table>\n</div>"
          },
          "metadata": {}
        }
      ],
      "execution_count": 41
    },
    {
      "id": "a318104c-0d20-4d33-a660-c7b8f2b16410",
      "cell_type": "code",
      "source": "df.loc[0,\"name\"]=\"mukul\"",
      "metadata": {
        "trusted": true
      },
      "outputs": [],
      "execution_count": 44
    },
    {
      "id": "54784197-b888-471b-b152-acdc06bb2770",
      "cell_type": "code",
      "source": "df",
      "metadata": {
        "trusted": true
      },
      "outputs": [
        {
          "execution_count": 45,
          "output_type": "execute_result",
          "data": {
            "text/plain": "         name  marks       city      0\n0       mukul   92.0     rampur  mukul\n1     shubham   75.0    kolkata    NaN\n2        gill   50.0     bareli    NaN\n3       jerry   85.0     umreli    NaN\n4       mohan   95.0  rajasthan    NaN\nname      NaN    NaN        NaN  mukul",
            "text/html": "<div>\n<style scoped>\n    .dataframe tbody tr th:only-of-type {\n        vertical-align: middle;\n    }\n\n    .dataframe tbody tr th {\n        vertical-align: top;\n    }\n\n    .dataframe thead th {\n        text-align: right;\n    }\n</style>\n<table border=\"1\" class=\"dataframe\">\n  <thead>\n    <tr style=\"text-align: right;\">\n      <th></th>\n      <th>name</th>\n      <th>marks</th>\n      <th>city</th>\n      <th>0</th>\n    </tr>\n  </thead>\n  <tbody>\n    <tr>\n      <th>0</th>\n      <td>mukul</td>\n      <td>92.0</td>\n      <td>rampur</td>\n      <td>mukul</td>\n    </tr>\n    <tr>\n      <th>1</th>\n      <td>shubham</td>\n      <td>75.0</td>\n      <td>kolkata</td>\n      <td>NaN</td>\n    </tr>\n    <tr>\n      <th>2</th>\n      <td>gill</td>\n      <td>50.0</td>\n      <td>bareli</td>\n      <td>NaN</td>\n    </tr>\n    <tr>\n      <th>3</th>\n      <td>jerry</td>\n      <td>85.0</td>\n      <td>umreli</td>\n      <td>NaN</td>\n    </tr>\n    <tr>\n      <th>4</th>\n      <td>mohan</td>\n      <td>95.0</td>\n      <td>rajasthan</td>\n      <td>NaN</td>\n    </tr>\n    <tr>\n      <th>name</th>\n      <td>NaN</td>\n      <td>NaN</td>\n      <td>NaN</td>\n      <td>mukul</td>\n    </tr>\n  </tbody>\n</table>\n</div>"
          },
          "metadata": {}
        }
      ],
      "execution_count": 45
    },
    {
      "id": "99ec105b-8673-4399-b092-dc7a47021a8e",
      "cell_type": "code",
      "source": "df.isnull()",
      "metadata": {
        "trusted": true
      },
      "outputs": [
        {
          "execution_count": 46,
          "output_type": "execute_result",
          "data": {
            "text/plain": "       name  marks   city      0\n0     False  False  False  False\n1     False  False  False   True\n2     False  False  False   True\n3     False  False  False   True\n4     False  False  False   True\nname   True   True   True  False",
            "text/html": "<div>\n<style scoped>\n    .dataframe tbody tr th:only-of-type {\n        vertical-align: middle;\n    }\n\n    .dataframe tbody tr th {\n        vertical-align: top;\n    }\n\n    .dataframe thead th {\n        text-align: right;\n    }\n</style>\n<table border=\"1\" class=\"dataframe\">\n  <thead>\n    <tr style=\"text-align: right;\">\n      <th></th>\n      <th>name</th>\n      <th>marks</th>\n      <th>city</th>\n      <th>0</th>\n    </tr>\n  </thead>\n  <tbody>\n    <tr>\n      <th>0</th>\n      <td>False</td>\n      <td>False</td>\n      <td>False</td>\n      <td>False</td>\n    </tr>\n    <tr>\n      <th>1</th>\n      <td>False</td>\n      <td>False</td>\n      <td>False</td>\n      <td>True</td>\n    </tr>\n    <tr>\n      <th>2</th>\n      <td>False</td>\n      <td>False</td>\n      <td>False</td>\n      <td>True</td>\n    </tr>\n    <tr>\n      <th>3</th>\n      <td>False</td>\n      <td>False</td>\n      <td>False</td>\n      <td>True</td>\n    </tr>\n    <tr>\n      <th>4</th>\n      <td>False</td>\n      <td>False</td>\n      <td>False</td>\n      <td>True</td>\n    </tr>\n    <tr>\n      <th>name</th>\n      <td>True</td>\n      <td>True</td>\n      <td>True</td>\n      <td>False</td>\n    </tr>\n  </tbody>\n</table>\n</div>"
          },
          "metadata": {}
        }
      ],
      "execution_count": 46
    },
    {
      "id": "934b4397-b44b-495c-b719-1d0002a96d50",
      "cell_type": "code",
      "source": "df.notnull()",
      "metadata": {
        "trusted": true
      },
      "outputs": [
        {
          "execution_count": 49,
          "output_type": "execute_result",
          "data": {
            "text/plain": "       name  marks   city      0\n0      True   True   True   True\n1      True   True   True  False\n2      True   True   True  False\n3      True   True   True  False\n4      True   True   True  False\nname  False  False  False   True",
            "text/html": "<div>\n<style scoped>\n    .dataframe tbody tr th:only-of-type {\n        vertical-align: middle;\n    }\n\n    .dataframe tbody tr th {\n        vertical-align: top;\n    }\n\n    .dataframe thead th {\n        text-align: right;\n    }\n</style>\n<table border=\"1\" class=\"dataframe\">\n  <thead>\n    <tr style=\"text-align: right;\">\n      <th></th>\n      <th>name</th>\n      <th>marks</th>\n      <th>city</th>\n      <th>0</th>\n    </tr>\n  </thead>\n  <tbody>\n    <tr>\n      <th>0</th>\n      <td>True</td>\n      <td>True</td>\n      <td>True</td>\n      <td>True</td>\n    </tr>\n    <tr>\n      <th>1</th>\n      <td>True</td>\n      <td>True</td>\n      <td>True</td>\n      <td>False</td>\n    </tr>\n    <tr>\n      <th>2</th>\n      <td>True</td>\n      <td>True</td>\n      <td>True</td>\n      <td>False</td>\n    </tr>\n    <tr>\n      <th>3</th>\n      <td>True</td>\n      <td>True</td>\n      <td>True</td>\n      <td>False</td>\n    </tr>\n    <tr>\n      <th>4</th>\n      <td>True</td>\n      <td>True</td>\n      <td>True</td>\n      <td>False</td>\n    </tr>\n    <tr>\n      <th>name</th>\n      <td>False</td>\n      <td>False</td>\n      <td>False</td>\n      <td>True</td>\n    </tr>\n  </tbody>\n</table>\n</div>"
          },
          "metadata": {}
        }
      ],
      "execution_count": 49
    },
    {
      "id": "1cac05fb-1a7c-41b6-b01b-977d1d12ae2d",
      "cell_type": "code",
      "source": "",
      "metadata": {
        "trusted": true
      },
      "outputs": [],
      "execution_count": null
    }
  ]
}