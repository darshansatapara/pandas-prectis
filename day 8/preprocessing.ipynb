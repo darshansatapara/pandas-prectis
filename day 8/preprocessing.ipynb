{
  "nbformat": 4,
  "nbformat_minor": 0,
  "metadata": {
    "colab": {
      "provenance": []
    },
    "kernelspec": {
      "name": "python3",
      "display_name": "Python 3"
    },
    "language_info": {
      "name": "python"
    }
  },
  "cells": [
    {
      "cell_type": "code",
      "execution_count": 13,
      "metadata": {
        "id": "2eqaYUNOIGZT"
      },
      "outputs": [],
      "source": [
        "# Import necessary libraries\n",
        "import pandas as pd\n",
        "from sklearn.model_selection import train_test_split\n",
        "from sklearn.preprocessing import StandardScaler, OneHotEncoder\n",
        "from sklearn.impute import SimpleImputer\n",
        "from sklearn.decomposition import PCA\n",
        "from sklearn.feature_extraction.text import CountVectorizer\n",
        "from sklearn.feature_extraction.text import ENGLISH_STOP_WORDS\n",
        "from sklearn.preprocessing import PowerTransformer\n",
        "from sklearn.utils import resample"
      ]
    },
    {
      "cell_type": "code",
      "source": [
        "# Load the Iris dataset\n",
        "url = \"https://archive.ics.uci.edu/ml/machine-learning-databases/iris/iris.data\"\n",
        "column_names = [\"sepal_length\", \"sepal_width\", \"petal_length\", \"petal_width\", \"class\"]\n",
        "iris = pd.read_csv(url, header=None, names=column_names)"
      ],
      "metadata": {
        "id": "DM_t6YMlIM61"
      },
      "execution_count": 14,
      "outputs": []
    },
    {
      "cell_type": "code",
      "source": [
        "# Data Cleaning\n",
        "# Handle missing data by filling missing values with the mean\n",
        "iris.fillna(iris.mean(), inplace=True)"
      ],
      "metadata": {
        "colab": {
          "base_uri": "https://localhost:8080/"
        },
        "id": "HCQ8W_9uIRfk",
        "outputId": "077ef297-2018-4e70-e3bb-8563411acfbf"
      },
      "execution_count": 15,
      "outputs": [
        {
          "output_type": "stream",
          "name": "stderr",
          "text": [
            "<ipython-input-15-9bcbf8e7867d>:3: FutureWarning: The default value of numeric_only in DataFrame.mean is deprecated. In a future version, it will default to False. In addition, specifying 'numeric_only=None' is deprecated. Select only valid columns or specify the value of numeric_only to silence this warning.\n",
            "  iris.fillna(iris.mean(), inplace=True)\n"
          ]
        }
      ]
    },
    {
      "cell_type": "code",
      "source": [
        "# Remove duplicate records\n",
        "iris.drop_duplicates(inplace=True)"
      ],
      "metadata": {
        "id": "vxsDmrVGIUUN"
      },
      "execution_count": 16,
      "outputs": []
    },
    {
      "cell_type": "code",
      "source": [
        "# Correct inaccuracies (assuming some inaccuracies are present)\n",
        "# Example: Correcting inconsistent class labels\n",
        "iris['class'] = iris['class'].str.strip()\n",
        "print(iris)"
      ],
      "metadata": {
        "colab": {
          "base_uri": "https://localhost:8080/"
        },
        "id": "Nl6IC2I-IYDn",
        "outputId": "97ccf467-7d65-4d4f-ee43-cbadb590c0af"
      },
      "execution_count": 42,
      "outputs": [
        {
          "output_type": "stream",
          "name": "stdout",
          "text": [
            "     sepal_length  sepal_width  petal_length  petal_width           class\n",
            "0       -0.915509     1.019971     -1.357737    -1.335700     Iris-setosa\n",
            "1       -1.157560    -0.128082     -1.357737    -1.335700     Iris-setosa\n",
            "2       -1.399610     0.331139     -1.414778    -1.335700     Iris-setosa\n",
            "3       -1.520635     0.101529     -1.300696    -1.335700     Iris-setosa\n",
            "4       -1.036535     1.249582     -1.357737    -1.335700     Iris-setosa\n",
            "..            ...          ...           ...          ...             ...\n",
            "145      1.020892    -0.128082      0.809831     1.444682  Iris-virginica\n",
            "146      0.536792    -1.276136      0.695748     0.915085  Iris-virginica\n",
            "147      0.778842    -0.128082      0.809831     1.047484  Iris-virginica\n",
            "148      0.415766     0.790361      0.923913     1.444682  Iris-virginica\n",
            "149      0.052691    -0.128082      0.752789     0.782686  Iris-virginica\n",
            "\n",
            "[147 rows x 5 columns]\n"
          ]
        }
      ]
    },
    {
      "cell_type": "code",
      "source": [
        "# Data Transformation\n",
        "# Standardization/Normalization\n",
        "scaler = StandardScaler()\n",
        "iris[['sepal_length', 'sepal_width', 'petal_length', 'petal_width']] = scaler.fit_transform(iris[['sepal_length', 'sepal_width', 'petal_length', 'petal_width']])"
      ],
      "metadata": {
        "id": "-QPogl7fJtyX"
      },
      "execution_count": 19,
      "outputs": []
    },
    {
      "cell_type": "code",
      "source": [
        "# Encoding categorical variables using one-hot encoding\n",
        "iris_encoded = pd.get_dummies(iris, columns=['class'])\n",
        "print(iris_encoded)"
      ],
      "metadata": {
        "colab": {
          "base_uri": "https://localhost:8080/"
        },
        "id": "ZMVOo54jJ0F4",
        "outputId": "a1ee9db2-eef6-4387-aabe-10bb6b98d4f5"
      },
      "execution_count": 43,
      "outputs": [
        {
          "output_type": "stream",
          "name": "stdout",
          "text": [
            "     sepal_length  sepal_width  petal_length  petal_width  class_Iris-setosa  \\\n",
            "0       -0.915509     1.019971     -1.357737    -1.335700                  1   \n",
            "1       -1.157560    -0.128082     -1.357737    -1.335700                  1   \n",
            "2       -1.399610     0.331139     -1.414778    -1.335700                  1   \n",
            "3       -1.520635     0.101529     -1.300696    -1.335700                  1   \n",
            "4       -1.036535     1.249582     -1.357737    -1.335700                  1   \n",
            "..            ...          ...           ...          ...                ...   \n",
            "145      1.020892    -0.128082      0.809831     1.444682                  0   \n",
            "146      0.536792    -1.276136      0.695748     0.915085                  0   \n",
            "147      0.778842    -0.128082      0.809831     1.047484                  0   \n",
            "148      0.415766     0.790361      0.923913     1.444682                  0   \n",
            "149      0.052691    -0.128082      0.752789     0.782686                  0   \n",
            "\n",
            "     class_Iris-versicolor  class_Iris-virginica  \n",
            "0                        0                     0  \n",
            "1                        0                     0  \n",
            "2                        0                     0  \n",
            "3                        0                     0  \n",
            "4                        0                     0  \n",
            "..                     ...                   ...  \n",
            "145                      0                     1  \n",
            "146                      0                     1  \n",
            "147                      0                     1  \n",
            "148                      0                     1  \n",
            "149                      0                     1  \n",
            "\n",
            "[147 rows x 7 columns]\n"
          ]
        }
      ]
    },
    {
      "cell_type": "code",
      "source": [
        "# Feature engineering: Create a new feature 'sepal_ratio'\n",
        "iris_encoded['sepal_ratio'] = iris_encoded['sepal_length'] / iris_encoded['sepal_width']"
      ],
      "metadata": {
        "id": "g_KEOLCcJ1-H"
      },
      "execution_count": 21,
      "outputs": []
    },
    {
      "cell_type": "code",
      "source": [
        "# Data Reduction\n",
        "# Dimensionality reduction using PCA\n",
        "pca = PCA(n_components=2)\n",
        "iris_pca = pca.fit_transform(iris_encoded[['sepal_length', 'sepal_width', 'petal_length', 'petal_width']])\n",
        "print(\"\\nProcessed Data:\")\n",
        "print(iris_encoded.head())"
      ],
      "metadata": {
        "colab": {
          "base_uri": "https://localhost:8080/"
        },
        "id": "UVjKWOpKJ4Wc",
        "outputId": "6bccdfec-84b8-4633-a1db-558dabd38b13"
      },
      "execution_count": 57,
      "outputs": [
        {
          "output_type": "stream",
          "name": "stdout",
          "text": [
            "\n",
            "Processed Data:\n",
            "   sepal_length  sepal_width  petal_length  petal_width  class_Iris-setosa  \\\n",
            "0     -0.915509     1.019971     -1.357737      -1.3357                  1   \n",
            "1     -1.157560    -0.128082     -1.357737      -1.3357                  1   \n",
            "2     -1.399610     0.331139     -1.414778      -1.3357                  1   \n",
            "3     -1.520635     0.101529     -1.300696      -1.3357                  1   \n",
            "4     -1.036535     1.249582     -1.357737      -1.3357                  1   \n",
            "\n",
            "   class_Iris-versicolor  class_Iris-virginica  sepal_width_transformed  \\\n",
            "0                      0                     0                 1.020220   \n",
            "1                      0                     0                -0.070467   \n",
            "2                      0                     0                 0.384710   \n",
            "3                      0                     0                 0.161162   \n",
            "4                      0                     0                 1.223163   \n",
            "\n",
            "   sepal_length_scaled date_column day_of_week  month  year  \n",
            "0            -0.915509  2023-01-01      Sunday      1  2023  \n",
            "1            -1.157560  2023-01-01      Sunday      1  2023  \n",
            "2            -1.399610  2023-01-01      Sunday      1  2023  \n",
            "3            -1.520635  2023-01-01      Sunday      1  2023  \n",
            "4            -1.036535  2023-01-01      Sunday      1  2023  \n"
          ]
        }
      ]
    },
    {
      "cell_type": "code",
      "source": [
        "# Outlier detection and removal (using z-score as an example)\n",
        "z_scores = (iris_encoded[['sepal_length', 'sepal_width', 'petal_length', 'petal_width']] -\n",
        "            iris_encoded[['sepal_length', 'sepal_width', 'petal_length', 'petal_width']].mean())\n",
        "/ iris_encoded[['sepal_length', 'sepal_width', 'petal_length', 'petal_width']].std()\n",
        "iris_no_outliers = iris_encoded[(z_scores.abs() < 3).all(axis=1)]"
      ],
      "metadata": {
        "id": "sRS9N4bpKA0X"
      },
      "execution_count": 28,
      "outputs": []
    },
    {
      "cell_type": "code",
      "source": [
        "# Data Discretization\n",
        "# Convert 'petal_length' into discrete bins\n",
        "iris_encoded['petal_length_bin'] = pd.cut(iris_encoded['petal_length'], bins=[0, 2, 5, 10], labels=['short', 'medium', 'long'])"
      ],
      "metadata": {
        "id": "YOK7EbWdKEQy"
      },
      "execution_count": 24,
      "outputs": []
    },
    {
      "cell_type": "code",
      "source": [
        "# Handling Imbalanced Data (assuming binary classification)\n",
        "# Upsample the minority class\n",
        "minority_class = 'class_Iris-versicolor'  # Assuming this is the minority class\n",
        "majority_class = 'class_Iris-setosa'  # Assuming this is the majority class\n",
        "minority_class_data = iris_encoded[iris_encoded[minority_class] == 1]\n",
        "majority_class_data = iris_encoded[iris_encoded[majority_class] == 1]\n",
        "\n",
        "minority_upsampled = resample(minority_class_data, replace=True, n_samples=len(majority_class_data), random_state=42)\n",
        "iris_balanced = pd.concat([majority_class_data, minority_upsampled])\n",
        "print(\"\\nProcessed Data:\")\n",
        "print(iris_encoded.head())\n"
      ],
      "metadata": {
        "colab": {
          "base_uri": "https://localhost:8080/"
        },
        "id": "eON0ixVZKGuE",
        "outputId": "1579fbe6-490f-4a04-9289-1270684f5bfa"
      },
      "execution_count": 54,
      "outputs": [
        {
          "output_type": "stream",
          "name": "stdout",
          "text": [
            "\n",
            "Processed Data:\n",
            "   sepal_length  sepal_width  petal_length  petal_width  class_Iris-setosa  \\\n",
            "0     -0.915509     1.019971     -1.357737      -1.3357                  1   \n",
            "1     -1.157560    -0.128082     -1.357737      -1.3357                  1   \n",
            "2     -1.399610     0.331139     -1.414778      -1.3357                  1   \n",
            "3     -1.520635     0.101529     -1.300696      -1.3357                  1   \n",
            "4     -1.036535     1.249582     -1.357737      -1.3357                  1   \n",
            "\n",
            "   class_Iris-versicolor  class_Iris-virginica  sepal_width_transformed  \\\n",
            "0                      0                     0                 1.020220   \n",
            "1                      0                     0                -0.070467   \n",
            "2                      0                     0                 0.384710   \n",
            "3                      0                     0                 0.161162   \n",
            "4                      0                     0                 1.223163   \n",
            "\n",
            "   sepal_length_scaled date_column day_of_week  month  year  \n",
            "0            -0.915509  2023-01-01      Sunday      1  2023  \n",
            "1            -1.157560  2023-01-01      Sunday      1  2023  \n",
            "2            -1.399610  2023-01-01      Sunday      1  2023  \n",
            "3            -1.520635  2023-01-01      Sunday      1  2023  \n",
            "4            -1.036535  2023-01-01      Sunday      1  2023  \n"
          ]
        }
      ]
    },
    {
      "cell_type": "code",
      "source": [
        "# Text Data Processing (if applicable)\n",
        "# Tokenization, stopword removal, and lemmatization (using a simple example)\n",
        "text_data = [\"This is an example sentence.\", \"Another sentence for demonstration.\"]\n",
        "vectorizer = CountVectorizer(stop_words='english')  # Use 'english' instead of ENGLISH_STOP_WORDS\n",
        "text_matrix = vectorizer.fit_transform(text_data)\n"
      ],
      "metadata": {
        "id": "sAShFr_wKPDh"
      },
      "execution_count": 33,
      "outputs": []
    },
    {
      "cell_type": "code",
      "source": [
        "# Date and Time Handling (hypothetical 'date_column')\n",
        "iris_encoded['date_column'] = pd.to_datetime('2023-01-01')  # Hypothetical date for demonstration\n",
        "iris_encoded['day_of_week'] = iris_encoded['date_column'].dt.day_name()\n",
        "iris_encoded['month'] = iris_encoded['date_column'].dt.month\n",
        "iris_encoded['year'] = iris_encoded['date_column'].dt.year\n",
        "print(\"\\nProcessed Data:\")\n",
        "print(iris_encoded.head())\n"
      ],
      "metadata": {
        "colab": {
          "base_uri": "https://localhost:8080/"
        },
        "id": "_gCYjWJeKXKq",
        "outputId": "5e62adc9-28cd-4d77-c140-39d4a645e706"
      },
      "execution_count": 53,
      "outputs": [
        {
          "output_type": "stream",
          "name": "stdout",
          "text": [
            "\n",
            "Processed Data:\n",
            "   sepal_length  sepal_width  petal_length  petal_width  class_Iris-setosa  \\\n",
            "0     -0.915509     1.019971     -1.357737      -1.3357                  1   \n",
            "1     -1.157560    -0.128082     -1.357737      -1.3357                  1   \n",
            "2     -1.399610     0.331139     -1.414778      -1.3357                  1   \n",
            "3     -1.520635     0.101529     -1.300696      -1.3357                  1   \n",
            "4     -1.036535     1.249582     -1.357737      -1.3357                  1   \n",
            "\n",
            "   class_Iris-versicolor  class_Iris-virginica  sepal_width_transformed  \\\n",
            "0                      0                     0                 1.020220   \n",
            "1                      0                     0                -0.070467   \n",
            "2                      0                     0                 0.384710   \n",
            "3                      0                     0                 0.161162   \n",
            "4                      0                     0                 1.223163   \n",
            "\n",
            "   sepal_length_scaled date_column day_of_week  month  year  \n",
            "0            -0.915509  2023-01-01      Sunday      1  2023  \n",
            "1            -1.157560  2023-01-01      Sunday      1  2023  \n",
            "2            -1.399610  2023-01-01      Sunday      1  2023  \n",
            "3            -1.520635  2023-01-01      Sunday      1  2023  \n",
            "4            -1.036535  2023-01-01      Sunday      1  2023  \n"
          ]
        }
      ]
    },
    {
      "cell_type": "code",
      "source": [
        "# Data Splitting\n",
        "target_column = 'sepal_width'  # Replace with your actual target column name\n",
        "X_train, X_test, y_train, y_test = train_test_split(iris_encoded.drop(target_column, axis=1), iris_encoded[target_column], test_size=0.2, random_state=42)\n"
      ],
      "metadata": {
        "id": "fYR1PNl_K-jy"
      },
      "execution_count": 45,
      "outputs": []
    },
    {
      "cell_type": "code",
      "source": [
        "# Applying PowerTransformer\n",
        "iris_encoded[target_column + '_transformed'] = PowerTransformer().fit_transform(iris_encoded[[target_column]])"
      ],
      "metadata": {
        "id": "3j0YGONRLosW"
      },
      "execution_count": 49,
      "outputs": []
    },
    {
      "cell_type": "code",
      "source": [
        "# Scaling the 'sepal_length' column\n",
        "iris_encoded['sepal_length_scaled'] = StandardScaler().fit_transform(iris_encoded[['sepal_length']])"
      ],
      "metadata": {
        "id": "L9HO1VCzQ3SN"
      },
      "execution_count": 51,
      "outputs": []
    },
    {
      "cell_type": "code",
      "source": [
        "# Display the processed data\n",
        "print(\"\\nProcessed Data:\")\n",
        "print(iris_encoded.head())"
      ],
      "metadata": {
        "colab": {
          "base_uri": "https://localhost:8080/"
        },
        "id": "Impd7h94Z8nH",
        "outputId": "fb1537ab-95f9-438d-adc7-449522fd37d5"
      },
      "execution_count": 52,
      "outputs": [
        {
          "output_type": "stream",
          "name": "stdout",
          "text": [
            "\n",
            "Processed Data:\n",
            "   sepal_length  sepal_width  petal_length  petal_width  class_Iris-setosa  \\\n",
            "0     -0.915509     1.019971     -1.357737      -1.3357                  1   \n",
            "1     -1.157560    -0.128082     -1.357737      -1.3357                  1   \n",
            "2     -1.399610     0.331139     -1.414778      -1.3357                  1   \n",
            "3     -1.520635     0.101529     -1.300696      -1.3357                  1   \n",
            "4     -1.036535     1.249582     -1.357737      -1.3357                  1   \n",
            "\n",
            "   class_Iris-versicolor  class_Iris-virginica  sepal_width_transformed  \\\n",
            "0                      0                     0                 1.020220   \n",
            "1                      0                     0                -0.070467   \n",
            "2                      0                     0                 0.384710   \n",
            "3                      0                     0                 0.161162   \n",
            "4                      0                     0                 1.223163   \n",
            "\n",
            "   sepal_length_scaled  \n",
            "0            -0.915509  \n",
            "1            -1.157560  \n",
            "2            -1.399610  \n",
            "3            -1.520635  \n",
            "4            -1.036535  \n"
          ]
        }
      ]
    },
    {
      "cell_type": "code",
      "source": [],
      "metadata": {
        "id": "v_1P_G8iaSfM"
      },
      "execution_count": null,
      "outputs": []
    }
  ]
}